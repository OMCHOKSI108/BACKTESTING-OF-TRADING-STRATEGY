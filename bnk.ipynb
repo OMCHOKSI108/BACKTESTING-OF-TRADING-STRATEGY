{
 "cells": [
  {
   "cell_type": "code",
   "execution_count": 4,
   "id": "bb90095f",
   "metadata": {},
   "outputs": [
    {
     "name": "stdout",
     "output_type": "stream",
     "text": [
      "Requirement already satisfied: pandas in c:\\users\\omcho\\anaconda3\\lib\\site-packages (2.3.3)\n",
      "Requirement already satisfied: scikit-learn in c:\\users\\omcho\\anaconda3\\lib\\site-packages (1.6.1)\n",
      "Requirement already satisfied: matplotlib in c:\\users\\omcho\\anaconda3\\lib\\site-packages (3.10.0)\n",
      "Requirement already satisfied: seaborn in c:\\users\\omcho\\anaconda3\\lib\\site-packages (0.13.2)\n",
      "Requirement already satisfied: dhanhq in c:\\users\\omcho\\anaconda3\\lib\\site-packages (2.0.2)\n",
      "Requirement already satisfied: numpy>=1.26.0 in c:\\users\\omcho\\anaconda3\\lib\\site-packages (from pandas) (2.2.6)\n",
      "Requirement already satisfied: python-dateutil>=2.8.2 in c:\\users\\omcho\\anaconda3\\lib\\site-packages (from pandas) (2.9.0.post0)\n",
      "Requirement already satisfied: pytz>=2020.1 in c:\\users\\omcho\\anaconda3\\lib\\site-packages (from pandas) (2025.2)\n",
      "Requirement already satisfied: tzdata>=2022.7 in c:\\users\\omcho\\anaconda3\\lib\\site-packages (from pandas) (2025.2)\n",
      "Requirement already satisfied: scipy>=1.6.0 in c:\\users\\omcho\\anaconda3\\lib\\site-packages (from scikit-learn) (1.15.3)\n",
      "Requirement already satisfied: joblib>=1.2.0 in c:\\users\\omcho\\anaconda3\\lib\\site-packages (from scikit-learn) (1.4.2)\n",
      "Requirement already satisfied: threadpoolctl>=3.1.0 in c:\\users\\omcho\\anaconda3\\lib\\site-packages (from scikit-learn) (3.5.0)\n",
      "Requirement already satisfied: contourpy>=1.0.1 in c:\\users\\omcho\\anaconda3\\lib\\site-packages (from matplotlib) (1.3.1)\n",
      "Requirement already satisfied: cycler>=0.10 in c:\\users\\omcho\\anaconda3\\lib\\site-packages (from matplotlib) (0.11.0)\n",
      "Requirement already satisfied: fonttools>=4.22.0 in c:\\users\\omcho\\anaconda3\\lib\\site-packages (from matplotlib) (4.55.3)\n",
      "Requirement already satisfied: kiwisolver>=1.3.1 in c:\\users\\omcho\\anaconda3\\lib\\site-packages (from matplotlib) (1.4.8)\n",
      "Requirement already satisfied: packaging>=20.0 in c:\\users\\omcho\\anaconda3\\lib\\site-packages (from matplotlib) (24.2)\n",
      "Requirement already satisfied: pillow>=8 in c:\\users\\omcho\\anaconda3\\lib\\site-packages (from matplotlib) (11.1.0)\n",
      "Requirement already satisfied: pyparsing>=2.3.1 in c:\\users\\omcho\\anaconda3\\lib\\site-packages (from matplotlib) (3.2.0)\n",
      "Requirement already satisfied: requests>=2.28.1 in c:\\users\\omcho\\anaconda3\\lib\\site-packages (from dhanhq) (2.32.3)\n",
      "Requirement already satisfied: websockets>=12.0.1 in c:\\users\\omcho\\anaconda3\\lib\\site-packages (from dhanhq) (15.0.1)\n",
      "Requirement already satisfied: pyOpenSSL>=20.0.1 in c:\\users\\omcho\\anaconda3\\lib\\site-packages (from dhanhq) (25.0.0)\n",
      "Requirement already satisfied: cryptography<45,>=41.0.5 in c:\\users\\omcho\\anaconda3\\lib\\site-packages (from pyOpenSSL>=20.0.1->dhanhq) (44.0.1)\n",
      "Requirement already satisfied: cffi>=1.12 in c:\\users\\omcho\\anaconda3\\lib\\site-packages (from cryptography<45,>=41.0.5->pyOpenSSL>=20.0.1->dhanhq) (1.17.1)\n",
      "Requirement already satisfied: pycparser in c:\\users\\omcho\\anaconda3\\lib\\site-packages (from cffi>=1.12->cryptography<45,>=41.0.5->pyOpenSSL>=20.0.1->dhanhq) (2.21)\n",
      "Requirement already satisfied: six>=1.5 in c:\\users\\omcho\\anaconda3\\lib\\site-packages (from python-dateutil>=2.8.2->pandas) (1.17.0)\n",
      "Requirement already satisfied: charset-normalizer<4,>=2 in c:\\users\\omcho\\anaconda3\\lib\\site-packages (from requests>=2.28.1->dhanhq) (3.3.2)\n",
      "Requirement already satisfied: idna<4,>=2.5 in c:\\users\\omcho\\anaconda3\\lib\\site-packages (from requests>=2.28.1->dhanhq) (3.7)\n",
      "Requirement already satisfied: urllib3<3,>=1.21.1 in c:\\users\\omcho\\anaconda3\\lib\\site-packages (from requests>=2.28.1->dhanhq) (2.3.0)\n",
      "Requirement already satisfied: certifi>=2017.4.17 in c:\\users\\omcho\\anaconda3\\lib\\site-packages (from requests>=2.28.1->dhanhq) (2025.10.5)\n"
     ]
    }
   ],
   "source": [
    "!pip install pandas scikit-learn matplotlib seaborn dhanhq"
   ]
  },
  {
   "cell_type": "code",
   "execution_count": null,
   "id": "2085cee3",
   "metadata": {},
   "outputs": [
    {
     "name": "stdout",
     "output_type": "stream",
     "text": [
      "Dhan client created. Inspecting available methods (sample):\n",
      "['BO', 'BSE', 'BSE_FNO', 'BUY', 'CNC', 'CO', 'COMPACT_CSV_URL', 'CUR', 'DAY', 'DETAILED_CSV_URL', 'FNO', 'INDEX', 'INTRA', 'IOC', 'LIMIT', 'MARGIN', 'MARKET', 'MCX', 'MTF', 'NSE', 'NSE_FNO', 'SELL', 'SL', 'SLM', 'access_token', 'base_url', 'cancel_forever', 'cancel_order', 'client_id', 'convert_position', 'convert_to_date_time', 'disable_ssl', 'edis_inquiry', 'expiry_list', 'fetch_security_list', 'generate_tpin', 'get_forever', 'get_fund_limits', 'get_holdings', 'get_order_by_correlationID', 'get_order_by_id', 'get_order_list', 'get_positions', 'get_trade_book', 'get_trade_history', 'header', 'historical_daily_data', 'intraday_minute_data', 'kill_switch', 'ledger_report', 'margin_calculator', 'modify_forever', 'modify_order', 'ohlc_data', 'open_browser_for_tpin', 'option_chain', 'place_forever', 'place_order', 'place_slice_order', 'quote_data', 'session', 'ticker_data', 'timeout']\n",
      "Fetching 5-min data for Security ID: 26001...\n",
      "  > Failed to fetch/normalize data or returned empty.\n",
      "Fetching 5-min data for Security ID: 50123...\n",
      "  > Failed to fetch/normalize data or returned empty.\n",
      "Fetching 5-min data for Security ID: 86683...\n",
      "  > Failed to fetch/normalize data or returned empty.\n",
      "Fetching 5-min data for Security ID: 86682...\n",
      "  > Failed to fetch/normalize data or returned empty.\n",
      "Fetching 5-min data for Security ID: 86681...\n",
      "  > Failed to fetch/normalize data or returned empty.\n",
      "No options data available to analyze.\n",
      "Cannot create plot: Spot data is missing.\n",
      "No final report saved (insufficient data).\n"
     ]
    }
   ],
   "source": [
    "import os\n",
    "\n",
    "# Load credentials from environment variables\n",
    "DHAN_CLIENT_ID = os.environ.get('DHAN_CLIENT_ID', \"YOUR_CLIENT_ID_HERE\")      # For Sandbox, this is 2510263737\n",
    "DHAN_ACCESS_TOKEN = os.environ.get('DHAN_ACCESS_TOKEN', \"YOUR_ACCESS_TOKEN_HERE\") # The long token you generated\n",
    "\"\"\"\n",
    "programmatic_analysis_dhan.py\n",
    "\n",
    "Full & final script:\n",
    "- Robust DhanHQ intraday fetcher (tries multiple method names)\n",
    "- Normalize responses to OHLCV DataFrame\n",
    "- Anomaly detection via IsolationForest\n",
    "- Aggregate option volumes and flag suspicious periods\n",
    "- Plot and save final chart\n",
    "\n",
    "Usage:\n",
    "  python programmatic_analysis_dhan.py\n",
    "\n",
    "Credentials are loaded from environment variables DHAN_CLIENT_ID and DHAN_ACCESS_TOKEN.\n",
    "Set these in your .env file or environment. DO NOT hardcode real credentials.\n",
    "\"\"\"\n",
    "\n",
    "import os\n",
    "import time\n",
    "from datetime import datetime, timedelta\n",
    "import pandas as pd\n",
    "import numpy as np\n",
    "import matplotlib.pyplot as plt\n",
    "from sklearn.ensemble import IsolationForest\n",
    "\n",
    "# Optional: If you have the dhanhq SDK installed\n",
    "try:\n",
    "    from dhanhq import dhanhq\n",
    "except Exception:\n",
    "    dhanhq = None\n",
    "\n",
    "# ---------------------------\n",
    "# Configuration (update me)\n",
    "# ---------------------------\n",
    "\n",
    "# Example: \"eyJhbGciOiJ...\" - DO NOT commit tokens to shared repos\n",
    "\n",
    "TARGET_DATE = \"2024-01-17\"   # date to analyze (YYYY-MM-DD)\n",
    "STOCK_NAME = \"BANKNIFTY\"     # label for saved files\n",
    "\n",
    "# Security IDs — update to the correct ones if you have a symbol master\n",
    "INSTRUMENTS = {\n",
    "    'spot': {\n",
    "        'security_id': '26001',     # example Nifty Bank index id\n",
    "        'exchange_segment': 'NSE_IDX'\n",
    "    },\n",
    "    'futures': {\n",
    "        'security_id': '50123',     # example BANKNIFTY future id\n",
    "        'exchange_segment': 'NSE_FNO'\n",
    "    },\n",
    "    'options': [\n",
    "        {'security_id': '86683', 'strike': 48000, 'type': 'PE'},\n",
    "        {'security_id': '86682', 'strike': 47500, 'type': 'PE'},\n",
    "        {'security_id': '86681', 'strike': 47000, 'type': 'PE'},\n",
    "    ]\n",
    "}\n",
    "\n",
    "# Fetching controls\n",
    "INTERVAL_MINUTES = 5\n",
    "SLEEP_BETWEEN_CALLS = 1\n",
    "MAX_RETRIES = 2\n",
    "\n",
    "# Candidate Dhan client method names to try (keeps compatibility across SDK versions)\n",
    "CANDIDATE_METHODS = [\n",
    "    'intraday_daily_minute_charts',\n",
    "    'intraday_minute_charts',\n",
    "    'intraday_minutes',\n",
    "    'get_intraday_minute_charts',\n",
    "    'minute_charts',\n",
    "    'historical_minute_charts',\n",
    "    'historical_minute',\n",
    "    'get_minute_data',\n",
    "    'historical'\n",
    "]"
   ]
  },
  {
   "cell_type": "code",
   "execution_count": null,
   "id": "f25b62a3",
   "metadata": {},
   "outputs": [
    {
     "name": "stdout",
     "output_type": "stream",
     "text": [
      "{'status': 'failure', 'remarks': {'error_code': 'DH-901', 'error_type': 'Invalid_Authentication', 'error_message': 'Client ID or user generated access token is invalid or expired.'}, 'data': {'errorType': 'Invalid_Authentication', 'errorCode': 'DH-901', 'errorMessage': 'Client ID or user generated access token is invalid or expired.'}}\n"
     ]
    }
   ],
   "source": [
    "import os\n",
    "from dhanhq import dhanhq\n",
    "\n",
    "# Load credentials from environment variables\n",
    "DHAN_CLIENT_ID = os.environ.get('DHAN_CLIENT_ID')\n",
    "DHAN_ACCESS_TOKEN = os.environ.get('DHAN_ACCESS_TOKEN')\n",
    "\n",
    "# Check if credentials are available\n",
    "if not DHAN_CLIENT_ID or not DHAN_ACCESS_TOKEN:\n",
    "    raise ValueError(\"DHAN_CLIENT_ID and DHAN_ACCESS_TOKEN must be set in environment variables\")\n",
    "\n",
    "# Initialize Dhan client\n",
    "dhan = dhanhq(DHAN_CLIENT_ID, DHAN_ACCESS_TOKEN)\n",
    "\n",
    "# Example: Get a list of all your orders\n",
    "order_list = dhan.get_order_list()\n",
    "print(order_list)"
   ]
  },
  {
   "cell_type": "code",
   "execution_count": null,
   "id": "2c5d2afd",
   "metadata": {},
   "outputs": [],
   "source": []
  }
 ],
 "metadata": {
  "kernelspec": {
   "display_name": "base",
   "language": "python",
   "name": "python3"
  },
  "language_info": {
   "codemirror_mode": {
    "name": "ipython",
    "version": 3
   },
   "file_extension": ".py",
   "mimetype": "text/x-python",
   "name": "python",
   "nbconvert_exporter": "python",
   "pygments_lexer": "ipython3",
   "version": "3.13.5"
  }
 },
 "nbformat": 4,
 "nbformat_minor": 5
}
